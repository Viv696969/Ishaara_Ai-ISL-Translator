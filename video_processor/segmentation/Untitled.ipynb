{
 "cells": [
  {
   "cell_type": "code",
   "execution_count": 2,
   "id": "177d2fba-7bcd-46e0-85f4-dbc036b6f491",
   "metadata": {},
   "outputs": [],
   "source": [
    "import cv2 as  cv\n",
    "import numpy as np\n",
    "import mediapipe as mp\n",
    "import os\n",
    "import matplotlib.pyplot as plt"
   ]
  },
  {
   "cell_type": "code",
   "execution_count": 3,
   "id": "7d2fa9c5-26c0-45bd-bb48-3c8335d655b4",
   "metadata": {},
   "outputs": [],
   "source": [
    "mp_drawing=mp.solutions.download_utils"
   ]
  },
  {
   "cell_type": "code",
   "execution_count": 4,
   "id": "fc8b9c3f-39d4-4a0b-928e-cc058cbced7a",
   "metadata": {},
   "outputs": [],
   "source": [
    "mp_selfie_segment=mp.solutions.selfie_segmentation"
   ]
  },
  {
   "cell_type": "code",
   "execution_count": 5,
   "id": "7bcfdf9d-e087-4bdb-9aa8-b94ecc552ca1",
   "metadata": {},
   "outputs": [],
   "source": [
    "selfie_segmentation=mp_selfie_segment.SelfieSegmentation()"
   ]
  },
  {
   "cell_type": "code",
   "execution_count": 19,
   "id": "5d726923-60ec-45b0-a63b-ff414f1463ca",
   "metadata": {},
   "outputs": [],
   "source": [
    "cap=cv.VideoCapture(0)\n",
    "\n",
    "BG_COLOR = (192, 192, 192) # gray\n",
    "while True:\n",
    "    _,frame=cap.read()\n",
    "    frame=cv.cvtColor(frame,cv.COLOR_BGR2RGB)\n",
    "    results=selfie_segmentation.process(frame)\n",
    "    frame=cv.cvtColor(frame,cv.COLOR_RGB2BGR)\n",
    "\n",
    "    condition = np.stack((results.segmentation_mask,) * 3, axis=-1) > 0.95\n",
    "    bg_image = cv.GaussianBlur(frame,(31,31),0)\n",
    "    # bg_image = np.zeros(frame.shape, dtype=np.uint8)\n",
    "    # bg_image[:] = BG_COLOR\n",
    "    output_image = np.where(condition, frame, bg_image)\n",
    "    \n",
    "    if cv.waitKey(1) == 27:\n",
    "        break\n",
    "    cv.imshow(\"frame\",output_image)\n",
    "    cv.imshow(\"mask\",results.segmentation_mask)\n",
    "\n",
    "cv.destroyAllWindows()\n",
    "cap.release()"
   ]
  },
  {
   "cell_type": "code",
   "execution_count": 10,
   "id": "6dd29679-c548-4d7d-a290-faf891996159",
   "metadata": {},
   "outputs": [
    {
     "data": {
      "text/plain": [
       "(480, 640)"
      ]
     },
     "execution_count": 10,
     "metadata": {},
     "output_type": "execute_result"
    }
   ],
   "source": [
    "results.segmentation_mask.shape"
   ]
  },
  {
   "cell_type": "code",
   "execution_count": 14,
   "id": "45843d2d-66f4-4723-a2d2-c93fccef4ae3",
   "metadata": {},
   "outputs": [],
   "source": [
    "cap.release()"
   ]
  },
  {
   "cell_type": "code",
   "execution_count": null,
   "id": "90a32d55-01cd-456d-96b0-e35810a01984",
   "metadata": {},
   "outputs": [],
   "source": []
  }
 ],
 "metadata": {
  "kernelspec": {
   "display_name": "Python 3 (ipykernel)",
   "language": "python",
   "name": "python3"
  },
  "language_info": {
   "codemirror_mode": {
    "name": "ipython",
    "version": 3
   },
   "file_extension": ".py",
   "mimetype": "text/x-python",
   "name": "python",
   "nbconvert_exporter": "python",
   "pygments_lexer": "ipython3",
   "version": "3.11.5"
  }
 },
 "nbformat": 4,
 "nbformat_minor": 5
}
