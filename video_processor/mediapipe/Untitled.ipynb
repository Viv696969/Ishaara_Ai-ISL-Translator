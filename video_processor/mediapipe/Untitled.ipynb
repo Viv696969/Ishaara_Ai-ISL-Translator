{
 "cells": [
  {
   "cell_type": "code",
   "execution_count": 1,
   "id": "bf6fa0a9-5830-4d4e-9c23-24d0a735a577",
   "metadata": {},
   "outputs": [],
   "source": [
    "import cv2 as cv"
   ]
  },
  {
   "cell_type": "code",
   "execution_count": 2,
   "id": "1b2f812f-c255-402f-9034-00b36d788e2d",
   "metadata": {},
   "outputs": [],
   "source": [
    "import mediapipe as mp"
   ]
  },
  {
   "cell_type": "code",
   "execution_count": 3,
   "id": "ee6b5f39-dc14-40ef-a9c8-9b072e9824eb",
   "metadata": {},
   "outputs": [],
   "source": [
    "import numpy as np"
   ]
  },
  {
   "cell_type": "code",
   "execution_count": 4,
   "id": "6275ed5c-8407-4be1-92fc-9376761dba67",
   "metadata": {},
   "outputs": [],
   "source": [
    "video_dir=\"../../../videos\""
   ]
  },
  {
   "cell_type": "code",
   "execution_count": 5,
   "id": "37439281-45dc-4aca-9585-1508b8abc5c4",
   "metadata": {},
   "outputs": [],
   "source": [
    "import os"
   ]
  },
  {
   "cell_type": "code",
   "execution_count": 6,
   "id": "c5a43f08-3e49-4a14-815b-151985eac457",
   "metadata": {},
   "outputs": [
    {
     "data": {
      "text/plain": [
       "['blank', 'hello', 'how are you', 'i', 'morning', 'sorry', 'thank you']"
      ]
     },
     "execution_count": 6,
     "metadata": {},
     "output_type": "execute_result"
    }
   ],
   "source": [
    "os.listdir(video_dir)"
   ]
  },
  {
   "cell_type": "code",
   "execution_count": 7,
   "id": "a0fecc18-f009-493f-865f-526de6397d59",
   "metadata": {},
   "outputs": [],
   "source": [
    "processed_videos_dir='../../../processed_videos'"
   ]
  },
  {
   "cell_type": "code",
   "execution_count": 8,
   "id": "08499cc8-1918-44ec-8d44-788183758583",
   "metadata": {},
   "outputs": [],
   "source": [
    "mp_drawing=mp.solutions.drawing_utils\n",
    "mp_holistic=mp.solutions.holistic\n",
    "holistic=mp_holistic.Holistic()"
   ]
  },
  {
   "cell_type": "code",
   "execution_count": 80,
   "id": "bcb3a3be-d47c-4315-a86c-b3a75c15a585",
   "metadata": {},
   "outputs": [],
   "source": [
    "style1=mp_drawing.DrawingSpec((71, 237, 212),2,1)\n",
    "style2=mp_drawing.DrawingSpec((67, 73, 247),2,1)"
   ]
  },
  {
   "cell_type": "code",
   "execution_count": 9,
   "id": "bc575435-8ff4-4930-b62a-655dd6a07d38",
   "metadata": {},
   "outputs": [],
   "source": [
    "style1=mp_drawing.DrawingSpec((0, 0, 0),1,1)\n",
    "style2=mp_drawing.DrawingSpec((0, 0, 0),2,2)\n",
    "# style1=mp_drawing.DrawingSpec((255,255, 255),1,1)\n",
    "# style2=mp_drawing.DrawingSpec((255, 255, 255),2,2)"
   ]
  },
  {
   "cell_type": "code",
   "execution_count": 10,
   "id": "17bf1318-9460-4cab-9a9c-18ea425b13e3",
   "metadata": {},
   "outputs": [],
   "source": [
    "def draw_landmarks(img,results):\n",
    "    mp_drawing.draw_landmarks(img,results.left_hand_landmarks,mp_holistic.HAND_CONNECTIONS,style1,style2)\n",
    "    mp_drawing.draw_landmarks(img,results.right_hand_landmarks,mp_holistic.HAND_CONNECTIONS,style1,style2)\n",
    "    mp_drawing.draw_landmarks(img,results.pose_landmarks,mp_holistic.POSE_CONNECTIONS,style1,style2)\n",
    "    # mp_drawing.draw_landmarks(img,results.face_landmarks,mp_holistic.FACEMESH_CONTOURS,style1,style2)"
   ]
  },
  {
   "cell_type": "code",
   "execution_count": 11,
   "id": "91a2dad1-d912-407f-827e-72bc55e19771",
   "metadata": {},
   "outputs": [],
   "source": [
    "import matplotlib.pyplot as plt"
   ]
  },
  {
   "cell_type": "code",
   "execution_count": 20,
   "id": "61d591e0-03c4-463c-8f96-28be932bcff6",
   "metadata": {},
   "outputs": [
    {
     "name": "stdout",
     "output_type": "stream",
     "text": [
      "(480, 640, 3)\n"
     ]
    }
   ],
   "source": [
    "white_img=cv.imread(\"white.png\")\n",
    "white_img=cv.resize(white_img,(640,480))\n",
    "print(white_img.shape)"
   ]
  },
  {
   "cell_type": "code",
   "execution_count": 21,
   "id": "c2e03ea0-7351-4d68-a051-c607a57d5249",
   "metadata": {},
   "outputs": [
    {
     "name": "stdout",
     "output_type": "stream",
     "text": [
      "(480, 640, 3)\n"
     ]
    },
    {
     "data": {
      "image/png": "[encoded data removed]",
      "text/plain": [
       "<Figure size 640x480 with 1 Axes>"
      ]
     },
     "metadata": {},
     "output_type": "display_data"
    }
   ],
   "source": [
    "plt.imshow(white_img)\n",
    "print(white_img.shape)"
   ]
  },
  {
   "cell_type": "code",
   "execution_count": 47,
   "id": "46b56466-d52c-45fb-8c5d-f2e9bbdbf8fa",
   "metadata": {},
   "outputs": [
    {
     "name": "stdout",
     "output_type": "stream",
     "text": [
      "width=640  height=480  fps=30.0\n",
      "(480, 640)\n",
      "(480, 640)\n",
      "(480, 640)\n",
      "(480, 640)\n",
      "(480, 640)\n",
      "(480, 640)\n",
      "(480, 640)\n",
      "(480, 640)\n",
      "(480, 640)\n",
      "(480, 640)\n",
      "(480, 640)\n",
      "(480, 640)\n",
      "(480, 640)\n",
      "(480, 640)\n",
      "(480, 640)\n",
      "(480, 640)\n",
      "(480, 640)\n",
      "(480, 640)\n",
      "(480, 640)\n",
      "(480, 640)\n",
      "(480, 640)\n",
      "(480, 640)\n",
      "(480, 640)\n",
      "(480, 640)\n",
      "(480, 640)\n",
      "(480, 640)\n",
      "(480, 640)\n",
      "(480, 640)\n",
      "(480, 640)\n",
      "(480, 640)\n"
     ]
    }
   ],
   "source": [
    "cap=cv.VideoCapture(os.path.join(video_dir,'blank','0.mp4'))\n",
    "width=int(cap.get(cv.CAP_PROP_FRAME_WIDTH))\n",
    "height=int(cap.get(cv.CAP_PROP_FRAME_HEIGHT))\n",
    "fps=cap.get(cv.CAP_PROP_FPS)\n",
    "fourcc = cv.VideoWriter_fourcc(*'XVID')\n",
    "print(f\"width={width}  height={height}  fps={fps}\")\n",
    "video_writer = cv.VideoWriter(\n",
    "                os.path.join(processed_videos_dir,f'test2.avi'),\n",
    "                fourcc, \n",
    "                fps,\n",
    "                (640,480),\n",
    "                 0\n",
    "                )\n",
    "for i in range(30):\n",
    "    _,frame=cap.read()\n",
    "  \n",
    "    white_img=cv.resize(cv.imread(\"white.png\"),(640,480))\n",
    "    white=white_img\n",
    "    frame=cv.cvtColor(frame,cv.COLOR_BGR2RGB)\n",
    "    results=holistic.process(frame)\n",
    "    frame=cv.cvtColor(frame,cv.COLOR_RGB2BGR)\n",
    "    draw_landmarks(white,results)\n",
    "    # cv.putText(white,f'{width,height}',(50,50),cv.FONT_HERSHEY_PLAIN,3,(0,0,255),1,cv.LINE_AA)\n",
    "    white=cv.cvtColor(white,cv.COLOR_BGR2GRAY)\n",
    "    video_writer.write(white)\n",
    "    print(white.shape)\n",
    "    if cv.waitKey(1)==27:\n",
    "        break\n",
    "    cv.imshow('frame',white)\n",
    "\n",
    "cv.destroyAllWindows()\n",
    "cap.release()\n",
    "video_writer.release()  "
   ]
  },
  {
   "cell_type": "code",
   "execution_count": 23,
   "id": "c9678251-2aa5-4e0f-93e2-3ecf59dbcf53",
   "metadata": {},
   "outputs": [],
   "source": [
    "video_writer.release()"
   ]
  },
  {
   "cell_type": "code",
   "execution_count": 40,
   "id": "8d062727-5c5f-42e3-9007-2dbe89c084aa",
   "metadata": {},
   "outputs": [],
   "source": [
    "from time import time"
   ]
  },
  {
   "cell_type": "code",
   "execution_count": 41,
   "id": "97f534ce-fa01-48d4-b35c-208703554203",
   "metadata": {},
   "outputs": [],
   "source": [
    "fourcc = cv.VideoWriter_fourcc(*'XVID')"
   ]
  },
  {
   "cell_type": "code",
   "execution_count": 49,
   "id": "84a52ace-d026-4606-94ae-10e9e84ae953",
   "metadata": {},
   "outputs": [
    {
     "name": "stdout",
     "output_type": "stream",
     "text": [
      "blank\n",
      "hello\n",
      "how are you\n",
      "i\n",
      "morning\n",
      "sorry\n",
      "thank you\n"
     ]
    }
   ],
   "source": [
    "for action in os.listdir(video_dir):\n",
    "    print(action)\n",
    "    os.mkdir(os.path.join(processed_videos_dir,action))"
   ]
  },
  {
   "cell_type": "code",
   "execution_count": 50,
   "id": "b511d46c-305d-4e2b-a0ce-3aae8364a009",
   "metadata": {},
   "outputs": [
    {
     "name": "stdout",
     "output_type": "stream",
     "text": [
      "blank\n",
      "hello\n",
      "how are you\n",
      "i\n",
      "morning\n",
      "sorry\n",
      "thank you\n"
     ]
    }
   ],
   "source": [
    "fourcc = cv.VideoWriter_fourcc(*'XVID')\n",
    "\n",
    "for action in os.listdir(video_dir):\n",
    "    print(action)\n",
    "    \n",
    "    for video in os.listdir(os.path.join(video_dir,action)):\n",
    "        path=os.path.join(video_dir,action,video)\n",
    "        cap=cv.VideoCapture(path)\n",
    "        width=int(cap.get(cv.CAP_PROP_FRAME_WIDTH))\n",
    "        height=int(cap.get(cv.CAP_PROP_FRAME_HEIGHT))\n",
    "        fps=cap.get(cv.CAP_PROP_FPS)\n",
    "\n",
    "        to_save_path=os.path.join(processed_videos_dir,action,video)\n",
    "        video_writer = cv.VideoWriter(\n",
    "                to_save_path,\n",
    "                fourcc, \n",
    "                fps,\n",
    "                (640,480),\n",
    "                0\n",
    "                )\n",
    "        # video_writer = cv.VideoWriter(to_save_path,fourcc,30,(640,480) )\n",
    "        for i in range(30):\n",
    "            _,frame=cap.read()\n",
    "            white_img=cv.resize(cv.imread(\"white.png\"),(640,480))\n",
    "            white=white_img\n",
    "            frame=cv.cvtColor(frame,cv.COLOR_BGR2RGB)\n",
    "            results=holistic.process(frame)\n",
    "            frame=cv.cvtColor(frame,cv.COLOR_RGB2BGR)\n",
    "            draw_landmarks(white,results)\n",
    "            white=cv.cvtColor(white,cv.COLOR_BGR2GRAY)\n",
    "            video_writer.write(white) \n",
    "            # cv.putText(white,f'{video}',(50,50),cv.FONT_HERSHEY_PLAIN,3,(0,0,255),1,cv.LINE_AA)\n",
    "            if cv.waitKey(1)==27:\n",
    "                break\n",
    "            cv.imshow('frame',white)\n",
    "        \n",
    "        cv.destroyAllWindows()\n",
    "        cap.release()\n",
    "        video_writer.release()\n",
    "        "
   ]
  },
  {
   "cell_type": "code",
   "execution_count": 34,
   "id": "e26128a0-a377-4e88-8d67-7854a7aeae57",
   "metadata": {},
   "outputs": [
    {
     "data": {
      "text/plain": [
       "['test.mp4']"
      ]
     },
     "execution_count": 34,
     "metadata": {},
     "output_type": "execute_result"
    }
   ],
   "source": []
  },
  {
   "cell_type": "code",
   "execution_count": null,
   "id": "09b39aab-36eb-464f-b8dc-c5c5ecf01207",
   "metadata": {},
   "outputs": [],
   "source": []
  }
 ],
 "metadata": {
  "kernelspec": {
   "display_name": "Python 3 (ipykernel)",
   "language": "python",
   "name": "python3"
  },
  "language_info": {
   "codemirror_mode": {
    "name": "ipython",
    "version": 3
   },
   "file_extension": ".py",
   "mimetype": "text/x-python",
   "name": "python",
   "nbconvert_exporter": "python",
   "pygments_lexer": "ipython3",
   "version": "3.11.5"
  }
 },
 "nbformat": 4,
 "nbformat_minor": 5
}
