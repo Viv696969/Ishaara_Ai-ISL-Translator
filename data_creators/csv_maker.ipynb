{
 "cells": [
  {
   "cell_type": "code",
   "execution_count": 1,
   "id": "1d9ebe77-7056-41aa-a475-506647295027",
   "metadata": {},
   "outputs": [],
   "source": [
    "import os\n",
    "from pandas import *"
   ]
  },
  {
   "cell_type": "code",
   "execution_count": 2,
   "id": "30f8458f-7f7b-4128-9c87-0d4a5e3ac50e",
   "metadata": {},
   "outputs": [],
   "source": [
    "video_dir='../../processed_videos'"
   ]
  },
  {
   "cell_type": "code",
   "execution_count": 4,
   "id": "576e1f00-6921-4744-a36b-4f9108851a4c",
   "metadata": {},
   "outputs": [
    {
     "data": {
      "text/plain": [
       "['blank', 'hello', 'how are you', 'i', 'morning', 'sorry', 'thank you']"
      ]
     },
     "execution_count": 4,
     "metadata": {},
     "output_type": "execute_result"
    }
   ],
   "source": [
    "os.listdir(video_dir)"
   ]
  },
  {
   "cell_type": "code",
   "execution_count": 5,
   "id": "0e89691f-e019-47be-b151-8b0d9f8bb239",
   "metadata": {},
   "outputs": [],
   "source": [
    "file_path,label=[],[]"
   ]
  },
  {
   "cell_type": "code",
   "execution_count": 6,
   "id": "e779e946-9510-4fc4-b0c3-696d972af5a9",
   "metadata": {},
   "outputs": [
    {
     "name": "stdout",
     "output_type": "stream",
     "text": [
      "blank\n",
      "hello\n",
      "how are you\n",
      "i\n",
      "morning\n",
      "sorry\n",
      "thank you\n"
     ]
    }
   ],
   "source": [
    "for action in os.listdir(video_dir):\n",
    "    print(action)\n",
    "    path=os.path.join(video_dir,action)\n",
    "    for video in os.listdir(path):\n",
    "        video_path=os.path.join(video_dir,action,video)\n",
    "        file_path.append(video_path)\n",
    "        label.append(action)"
   ]
  },
  {
   "cell_type": "code",
   "execution_count": 9,
   "id": "8af88a08-3448-4c57-b5a0-c333c1e83481",
   "metadata": {},
   "outputs": [],
   "source": [
    "df=DataFrame(columns=['file_path','label'])"
   ]
  },
  {
   "cell_type": "code",
   "execution_count": 11,
   "id": "0f52418e-3c03-49c5-a3b4-9e6855892c04",
   "metadata": {},
   "outputs": [],
   "source": [
    "df['file_path']=file_path\n",
    "df['label']=label"
   ]
  },
  {
   "cell_type": "code",
   "execution_count": 12,
   "id": "3b7780f9-3aac-43a8-b0c0-d7eb67d69983",
   "metadata": {},
   "outputs": [
    {
     "data": {
      "text/html": [
       "<div>\n",
       "<style scoped>\n",
       "    .dataframe tbody tr th:only-of-type {\n",
       "        vertical-align: middle;\n",
       "    }\n",
       "\n",
       "    .dataframe tbody tr th {\n",
       "        vertical-align: top;\n",
       "    }\n",
       "\n",
       "    .dataframe thead th {\n",
       "        text-align: right;\n",
       "    }\n",
       "</style>\n",
       "<table border=\"1\" class=\"dataframe\">\n",
       "  <thead>\n",
       "    <tr style=\"text-align: right;\">\n",
       "      <th></th>\n",
       "      <th>file_path</th>\n",
       "      <th>label</th>\n",
       "    </tr>\n",
       "  </thead>\n",
       "  <tbody>\n",
       "    <tr>\n",
       "      <th>0</th>\n",
       "      <td>../../processed_videos\\blank\\0.mp4</td>\n",
       "      <td>blank</td>\n",
       "    </tr>\n",
       "    <tr>\n",
       "      <th>1</th>\n",
       "      <td>../../processed_videos\\blank\\1.mp4</td>\n",
       "      <td>blank</td>\n",
       "    </tr>\n",
       "    <tr>\n",
       "      <th>2</th>\n",
       "      <td>../../processed_videos\\blank\\10.mp4</td>\n",
       "      <td>blank</td>\n",
       "    </tr>\n",
       "    <tr>\n",
       "      <th>3</th>\n",
       "      <td>../../processed_videos\\blank\\11.mp4</td>\n",
       "      <td>blank</td>\n",
       "    </tr>\n",
       "    <tr>\n",
       "      <th>4</th>\n",
       "      <td>../../processed_videos\\blank\\12.mp4</td>\n",
       "      <td>blank</td>\n",
       "    </tr>\n",
       "    <tr>\n",
       "      <th>...</th>\n",
       "      <td>...</td>\n",
       "      <td>...</td>\n",
       "    </tr>\n",
       "    <tr>\n",
       "      <th>345</th>\n",
       "      <td>../../processed_videos\\thank you\\5.mp4</td>\n",
       "      <td>thank you</td>\n",
       "    </tr>\n",
       "    <tr>\n",
       "      <th>346</th>\n",
       "      <td>../../processed_videos\\thank you\\6.mp4</td>\n",
       "      <td>thank you</td>\n",
       "    </tr>\n",
       "    <tr>\n",
       "      <th>347</th>\n",
       "      <td>../../processed_videos\\thank you\\7.mp4</td>\n",
       "      <td>thank you</td>\n",
       "    </tr>\n",
       "    <tr>\n",
       "      <th>348</th>\n",
       "      <td>../../processed_videos\\thank you\\8.mp4</td>\n",
       "      <td>thank you</td>\n",
       "    </tr>\n",
       "    <tr>\n",
       "      <th>349</th>\n",
       "      <td>../../processed_videos\\thank you\\9.mp4</td>\n",
       "      <td>thank you</td>\n",
       "    </tr>\n",
       "  </tbody>\n",
       "</table>\n",
       "<p>350 rows × 2 columns</p>\n",
       "</div>"
      ],
      "text/plain": [
       "                                  file_path      label\n",
       "0        ../../processed_videos\\blank\\0.mp4      blank\n",
       "1        ../../processed_videos\\blank\\1.mp4      blank\n",
       "2       ../../processed_videos\\blank\\10.mp4      blank\n",
       "3       ../../processed_videos\\blank\\11.mp4      blank\n",
       "4       ../../processed_videos\\blank\\12.mp4      blank\n",
       "..                                      ...        ...\n",
       "345  ../../processed_videos\\thank you\\5.mp4  thank you\n",
       "346  ../../processed_videos\\thank you\\6.mp4  thank you\n",
       "347  ../../processed_videos\\thank you\\7.mp4  thank you\n",
       "348  ../../processed_videos\\thank you\\8.mp4  thank you\n",
       "349  ../../processed_videos\\thank you\\9.mp4  thank you\n",
       "\n",
       "[350 rows x 2 columns]"
      ]
     },
     "execution_count": 12,
     "metadata": {},
     "output_type": "execute_result"
    }
   ],
   "source": [
    "df"
   ]
  },
  {
   "cell_type": "code",
   "execution_count": 13,
   "id": "bbe41e0a-cf10-4cca-b2ea-dacb74449899",
   "metadata": {},
   "outputs": [],
   "source": [
    "df.to_csv(\"csv_data.csv\",index=False)"
   ]
  },
  {
   "cell_type": "code",
   "execution_count": null,
   "id": "ee96e241-7311-4919-9df6-243f9c6e07fa",
   "metadata": {},
   "outputs": [],
   "source": []
  }
 ],
 "metadata": {
  "kernelspec": {
   "display_name": "Python 3 (ipykernel)",
   "language": "python",
   "name": "python3"
  },
  "language_info": {
   "codemirror_mode": {
    "name": "ipython",
    "version": 3
   },
   "file_extension": ".py",
   "mimetype": "text/x-python",
   "name": "python",
   "nbconvert_exporter": "python",
   "pygments_lexer": "ipython3",
   "version": "3.11.5"
  }
 },
 "nbformat": 4,
 "nbformat_minor": 5
}
